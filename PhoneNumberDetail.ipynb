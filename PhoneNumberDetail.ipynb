{
 "cells": [
  {
   "cell_type": "code",
   "execution_count": 6,
   "metadata": {},
   "outputs": [],
   "source": [
    "import phonenumbers as  ph\n"
   ]
  },
  {
   "cell_type": "code",
   "execution_count": 7,
   "metadata": {},
   "outputs": [],
   "source": [
    "from phonenumbers import carrier, geocoder, timezone"
   ]
  },
  {
   "cell_type": "code",
   "execution_count": 9,
   "metadata": {},
   "outputs": [
    {
     "name": "stdout",
     "output_type": "stream",
     "text": [
      "('Europe/Istanbul',)\n",
      "Turkcell\n",
      "Türkiye\n"
     ]
    }
   ],
   "source": [
    "number = \"+905324774224\"\n",
    "number = ph.parse(number)\n",
    "print(timezone.time_zones_for_number(number))\n",
    "print(carrier.name_for_number(number, \"tr\"))\n",
    "print(geocoder.description_for_number(number, \"tr\"))"
   ]
  }
 ],
 "metadata": {
  "kernelspec": {
   "display_name": "pythonProject",
   "language": "python",
   "name": "python3"
  },
  "language_info": {
   "codemirror_mode": {
    "name": "ipython",
    "version": 3
   },
   "file_extension": ".py",
   "mimetype": "text/x-python",
   "name": "python",
   "nbconvert_exporter": "python",
   "pygments_lexer": "ipython3",
   "version": "3.9.12"
  },
  "orig_nbformat": 4
 },
 "nbformat": 4,
 "nbformat_minor": 2
}
